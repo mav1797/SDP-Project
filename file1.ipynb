{
 "cells": [
  {
   "cell_type": "code",
   "execution_count": 2,
   "metadata": {},
   "outputs": [
    {
     "name": "stdout",
     "output_type": "stream",
     "text": [
      "Movie analysis\n"
     ]
    }
   ],
   "source": [
    "print('Movie analysis')\n"
   ]
  },
  {
   "cell_type": "markdown",
   "metadata": {},
   "source": [
    "Project on movie analysis from 2000 to 2007 from imdb dataset\n"
   ]
  },
  {
   "cell_type": "markdown",
   "metadata": {},
   "source": [
    "import pandas as pd\n",
    "import os\n",
    "csvmovie = pd.read_csv('dataset.csv')\n",
    "csvmovie.head(10)\n"
   ]
  },
  {
   "cell_type": "code",
   "execution_count": 4,
   "metadata": {},
   "outputs": [
    {
     "name": "stdout",
     "output_type": "stream",
     "text": [
      "length of datset is:-4583\n"
     ]
    }
   ],
   "source": [
    "lengthofdata=len(csvmovie)\n",
    "print(f'length of datset is:-{lengthofdata}')"
   ]
  },
  {
   "cell_type": "code",
   "execution_count": 5,
   "metadata": {},
   "outputs": [
    {
     "name": "stdout",
     "output_type": "stream",
     "text": [
      "There are 9 columns in data set , whuch are:- ['Unnamed: 0', 'audienceRating', 'Genre', 'criticRating', 'timeMin', 'grossMillions', 'Movie', 'Vote', 'Year'] \n"
     ]
    }
   ],
   "source": [
    "l=list(csvmovie.columns.values)\n",
    "l1=len(l)\n",
    "print(f'There are {l1} columns in data set , whuch are:- {l} ')"
   ]
  },
  {
   "cell_type": "code",
   "execution_count": 6,
   "metadata": {},
   "outputs": [],
   "source": [
    "del csvmovie['Unnamed: 0']"
   ]
  },
  {
   "cell_type": "code",
   "execution_count": 7,
   "metadata": {},
   "outputs": [
    {
     "data": {
      "text/html": [
       "<div>\n",
       "<style scoped>\n",
       "    .dataframe tbody tr th:only-of-type {\n",
       "        vertical-align: middle;\n",
       "    }\n",
       "\n",
       "    .dataframe tbody tr th {\n",
       "        vertical-align: top;\n",
       "    }\n",
       "\n",
       "    .dataframe thead th {\n",
       "        text-align: right;\n",
       "    }\n",
       "</style>\n",
       "<table border=\"1\" class=\"dataframe\">\n",
       "  <thead>\n",
       "    <tr style=\"text-align: right;\">\n",
       "      <th></th>\n",
       "      <th>audienceRating</th>\n",
       "      <th>Genre</th>\n",
       "      <th>criticRating</th>\n",
       "      <th>timeMin</th>\n",
       "      <th>grossMillions</th>\n",
       "      <th>Movie</th>\n",
       "      <th>Vote</th>\n",
       "      <th>Year</th>\n",
       "    </tr>\n",
       "  </thead>\n",
       "  <tbody>\n",
       "    <tr>\n",
       "      <th>0</th>\n",
       "      <td>8.5</td>\n",
       "      <td>Action</td>\n",
       "      <td>67</td>\n",
       "      <td>155</td>\n",
       "      <td>187.71</td>\n",
       "      <td>Gladiator</td>\n",
       "      <td>1096457</td>\n",
       "      <td>2000</td>\n",
       "    </tr>\n",
       "    <tr>\n",
       "      <th>1</th>\n",
       "      <td>8.5</td>\n",
       "      <td>Mystery</td>\n",
       "      <td>80</td>\n",
       "      <td>113</td>\n",
       "      <td>25.54</td>\n",
       "      <td>Memento</td>\n",
       "      <td>942923</td>\n",
       "      <td>2000</td>\n",
       "    </tr>\n",
       "    <tr>\n",
       "      <th>2</th>\n",
       "      <td>8.3</td>\n",
       "      <td>Comedy</td>\n",
       "      <td>55</td>\n",
       "      <td>104</td>\n",
       "      <td>30.33</td>\n",
       "      <td>Snatch - Tu braques ou tu raques</td>\n",
       "      <td>663244</td>\n",
       "      <td>2000</td>\n",
       "    </tr>\n",
       "    <tr>\n",
       "      <th>3</th>\n",
       "      <td>8.3</td>\n",
       "      <td>Drama</td>\n",
       "      <td>68</td>\n",
       "      <td>102</td>\n",
       "      <td>3.64</td>\n",
       "      <td>Requiem for a Dream</td>\n",
       "      <td>640047</td>\n",
       "      <td>2000</td>\n",
       "    </tr>\n",
       "    <tr>\n",
       "      <th>4</th>\n",
       "      <td>7.4</td>\n",
       "      <td>Action</td>\n",
       "      <td>64</td>\n",
       "      <td>104</td>\n",
       "      <td>157.30</td>\n",
       "      <td>X-Men</td>\n",
       "      <td>498388</td>\n",
       "      <td>2000</td>\n",
       "    </tr>\n",
       "    <tr>\n",
       "      <th>5</th>\n",
       "      <td>7.8</td>\n",
       "      <td>Adventure</td>\n",
       "      <td>73</td>\n",
       "      <td>143</td>\n",
       "      <td>233.63</td>\n",
       "      <td>Seul au monde</td>\n",
       "      <td>435798</td>\n",
       "      <td>2000</td>\n",
       "    </tr>\n",
       "    <tr>\n",
       "      <th>6</th>\n",
       "      <td>7.6</td>\n",
       "      <td>Crime</td>\n",
       "      <td>64</td>\n",
       "      <td>102</td>\n",
       "      <td>15.07</td>\n",
       "      <td>American Psycho</td>\n",
       "      <td>396271</td>\n",
       "      <td>2000</td>\n",
       "    </tr>\n",
       "    <tr>\n",
       "      <th>7</th>\n",
       "      <td>7.2</td>\n",
       "      <td>Drama</td>\n",
       "      <td>62</td>\n",
       "      <td>106</td>\n",
       "      <td>95.01</td>\n",
       "      <td>Incassable</td>\n",
       "      <td>284747</td>\n",
       "      <td>2000</td>\n",
       "    </tr>\n",
       "    <tr>\n",
       "      <th>8</th>\n",
       "      <td>7.0</td>\n",
       "      <td>Comedy</td>\n",
       "      <td>73</td>\n",
       "      <td>108</td>\n",
       "      <td>166.24</td>\n",
       "      <td>Mon beau-père et moi</td>\n",
       "      <td>277723</td>\n",
       "      <td>2000</td>\n",
       "    </tr>\n",
       "    <tr>\n",
       "      <th>9</th>\n",
       "      <td>6.1</td>\n",
       "      <td>Action</td>\n",
       "      <td>59</td>\n",
       "      <td>123</td>\n",
       "      <td>215.41</td>\n",
       "      <td>M-I:2 Mission: Impossible 2</td>\n",
       "      <td>263188</td>\n",
       "      <td>2000</td>\n",
       "    </tr>\n",
       "  </tbody>\n",
       "</table>\n",
       "</div>"
      ],
      "text/plain": [
       "   audienceRating      Genre  criticRating  timeMin  grossMillions  \\\n",
       "0             8.5     Action            67      155         187.71   \n",
       "1             8.5    Mystery            80      113          25.54   \n",
       "2             8.3     Comedy            55      104          30.33   \n",
       "3             8.3      Drama            68      102           3.64   \n",
       "4             7.4     Action            64      104         157.30   \n",
       "5             7.8  Adventure            73      143         233.63   \n",
       "6             7.6      Crime            64      102          15.07   \n",
       "7             7.2      Drama            62      106          95.01   \n",
       "8             7.0     Comedy            73      108         166.24   \n",
       "9             6.1     Action            59      123         215.41   \n",
       "\n",
       "                              Movie     Vote  Year  \n",
       "0                         Gladiator  1096457  2000  \n",
       "1                           Memento   942923  2000  \n",
       "2  Snatch - Tu braques ou tu raques   663244  2000  \n",
       "3               Requiem for a Dream   640047  2000  \n",
       "4                             X-Men   498388  2000  \n",
       "5                     Seul au monde   435798  2000  \n",
       "6                   American Psycho   396271  2000  \n",
       "7                        Incassable   284747  2000  \n",
       "8              Mon beau-père et moi   277723  2000  \n",
       "9       M-I:2 Mission: Impossible 2   263188  2000  "
      ]
     },
     "execution_count": 7,
     "metadata": {},
     "output_type": "execute_result"
    }
   ],
   "source": [
    "csvmovie.head(10)"
   ]
  },
  {
   "cell_type": "code",
   "execution_count": 8,
   "metadata": {},
   "outputs": [
    {
     "name": "stdout",
     "output_type": "stream",
     "text": [
      "Audience rating is in range of:- 1.5 to 9.0\n",
      "Critic rating is in range of:- 5 to 100\n",
      "Time in miniutes is in range of:- 48 to 366\n",
      "Gross millions of movies range from:- 0.0 to 936.66\n",
      "Votes by users range from:- 2760 to 1865768\n",
      "Votes by users range from:- 2000 to 2017\n"
     ]
    }
   ],
   "source": [
    "m11=max(csvmovie.audienceRating)\n",
    "m12=min(csvmovie.audienceRating)\n",
    "#m13=csvmovie[(csvmovie['audienceRating'] == m11)]\n",
    "print(f'Audience rating is in range of:- {m12} to {m11}')\n",
    "m21=max(csvmovie.criticRating)\n",
    "m22=min(csvmovie.criticRating)\n",
    "print(f'Critic rating is in range of:- {m22} to {m21}')\n",
    "m31=max(csvmovie.timeMin)\n",
    "m32=min(csvmovie.timeMin)\n",
    "print(f'Time in miniutes is in range of:- {m32} to {m31}')\n",
    "m41=max(csvmovie.grossMillions)\n",
    "m42=min(csvmovie.grossMillions)\n",
    "print(f'Gross millions of movies range from:- {m42} to {m41}')\n",
    "m51=max(csvmovie.Vote)\n",
    "m52=min(csvmovie.Vote)\n",
    "print(f'Votes by users range from:- {m52} to {m51}')\n",
    "m61=max(csvmovie.Year)\n",
    "m62=min(csvmovie.Year)\n",
    "print(f'Votes by users range from:- {m62} to {m61}')"
   ]
  },
  {
   "cell_type": "code",
   "execution_count": 9,
   "metadata": {},
   "outputs": [
    {
     "name": "stdout",
     "output_type": "stream",
     "text": [
      "After cleaning There are 8 columns in data set , whuch are:- ['audienceRating', 'Genre', 'criticRating', 'timeMin', 'grossMillions', 'Movie', 'Vote', 'Year'] \n"
     ]
    }
   ],
   "source": [
    "l=list(csvmovie.columns.values)\n",
    "l1=len(l)\n",
    "print(f'After cleaning There are {l1} columns in data set , whuch are:- {l} ')"
   ]
  },
  {
   "cell_type": "markdown",
   "metadata": {},
   "source": [
    "To check if there are any missing values in our dataset."
   ]
  },
  {
   "cell_type": "code",
   "execution_count": 10,
   "metadata": {},
   "outputs": [
    {
     "name": "stdout",
     "output_type": "stream",
     "text": [
      "<class 'pandas.core.frame.DataFrame'>\n",
      "RangeIndex: 4583 entries, 0 to 4582\n",
      "Data columns (total 8 columns):\n",
      "audienceRating    4583 non-null float64\n",
      "Genre             4583 non-null object\n",
      "criticRating      4583 non-null int64\n",
      "timeMin           4583 non-null int64\n",
      "grossMillions     4583 non-null float64\n",
      "Movie             4583 non-null object\n",
      "Vote              4583 non-null int64\n",
      "Year              4583 non-null int64\n",
      "dtypes: float64(2), int64(4), object(2)\n",
      "memory usage: 286.5+ KB\n"
     ]
    }
   ],
   "source": [
    "csvmovie.info()"
   ]
  },
  {
   "cell_type": "markdown",
   "metadata": {},
   "source": [
    "NO missing values as each column has same number of elemnts which is 4583"
   ]
  },
  {
   "cell_type": "markdown",
   "metadata": {},
   "source": [
    "from above information we can see that MOVIE and GENRE have datatype OBJECT which we cannot process them as we can int or float type\n",
    "\n",
    "So we will now convert them movie and genre to category type"
   ]
  },
  {
   "cell_type": "code",
   "execution_count": 11,
   "metadata": {},
   "outputs": [
    {
     "name": "stdout",
     "output_type": "stream",
     "text": [
      "<class 'pandas.core.frame.DataFrame'>\n",
      "RangeIndex: 4583 entries, 0 to 4582\n",
      "Data columns (total 8 columns):\n",
      "audienceRating    4583 non-null float64\n",
      "Genre             4583 non-null category\n",
      "criticRating      4583 non-null int64\n",
      "timeMin           4583 non-null int64\n",
      "grossMillions     4583 non-null float64\n",
      "Movie             4583 non-null category\n",
      "Vote              4583 non-null int64\n",
      "Year              4583 non-null int64\n",
      "dtypes: category(2), float64(2), int64(4)\n",
      "memory usage: 424.7 KB\n"
     ]
    }
   ],
   "source": [
    "csvmovie.Movie = csvmovie.Movie.astype('category')\n",
    "csvmovie.Genre = csvmovie.Genre.astype('category')\n",
    "csvmovie.info()"
   ]
  },
  {
   "cell_type": "code",
   "execution_count": 12,
   "metadata": {},
   "outputs": [
    {
     "data": {
      "text/html": [
       "<div>\n",
       "<style scoped>\n",
       "    .dataframe tbody tr th:only-of-type {\n",
       "        vertical-align: middle;\n",
       "    }\n",
       "\n",
       "    .dataframe tbody tr th {\n",
       "        vertical-align: top;\n",
       "    }\n",
       "\n",
       "    .dataframe thead th {\n",
       "        text-align: right;\n",
       "    }\n",
       "</style>\n",
       "<table border=\"1\" class=\"dataframe\">\n",
       "  <thead>\n",
       "    <tr style=\"text-align: right;\">\n",
       "      <th></th>\n",
       "      <th>audienceRating</th>\n",
       "      <th>criticRating</th>\n",
       "      <th>timeMin</th>\n",
       "      <th>grossMillions</th>\n",
       "      <th>Vote</th>\n",
       "      <th>Year</th>\n",
       "    </tr>\n",
       "  </thead>\n",
       "  <tbody>\n",
       "    <tr>\n",
       "      <th>count</th>\n",
       "      <td>4583.000000</td>\n",
       "      <td>4583.000000</td>\n",
       "      <td>4583.000000</td>\n",
       "      <td>4583.000000</td>\n",
       "      <td>4.583000e+03</td>\n",
       "      <td>4583.000000</td>\n",
       "    </tr>\n",
       "    <tr>\n",
       "      <th>mean</th>\n",
       "      <td>6.510081</td>\n",
       "      <td>55.227144</td>\n",
       "      <td>107.127646</td>\n",
       "      <td>37.234787</td>\n",
       "      <td>8.450176e+04</td>\n",
       "      <td>2008.365263</td>\n",
       "    </tr>\n",
       "    <tr>\n",
       "      <th>std</th>\n",
       "      <td>0.993184</td>\n",
       "      <td>17.947463</td>\n",
       "      <td>18.810458</td>\n",
       "      <td>66.157452</td>\n",
       "      <td>1.334644e+05</td>\n",
       "      <td>5.102369</td>\n",
       "    </tr>\n",
       "    <tr>\n",
       "      <th>min</th>\n",
       "      <td>1.500000</td>\n",
       "      <td>5.000000</td>\n",
       "      <td>48.000000</td>\n",
       "      <td>0.000000</td>\n",
       "      <td>2.760000e+03</td>\n",
       "      <td>2000.000000</td>\n",
       "    </tr>\n",
       "    <tr>\n",
       "      <th>25%</th>\n",
       "      <td>5.900000</td>\n",
       "      <td>42.000000</td>\n",
       "      <td>94.000000</td>\n",
       "      <td>0.500000</td>\n",
       "      <td>1.428100e+04</td>\n",
       "      <td>2004.000000</td>\n",
       "    </tr>\n",
       "    <tr>\n",
       "      <th>50%</th>\n",
       "      <td>6.600000</td>\n",
       "      <td>56.000000</td>\n",
       "      <td>104.000000</td>\n",
       "      <td>10.910000</td>\n",
       "      <td>3.541600e+04</td>\n",
       "      <td>2008.000000</td>\n",
       "    </tr>\n",
       "    <tr>\n",
       "      <th>75%</th>\n",
       "      <td>7.200000</td>\n",
       "      <td>69.000000</td>\n",
       "      <td>116.000000</td>\n",
       "      <td>45.060000</td>\n",
       "      <td>9.317800e+04</td>\n",
       "      <td>2013.000000</td>\n",
       "    </tr>\n",
       "    <tr>\n",
       "      <th>max</th>\n",
       "      <td>9.000000</td>\n",
       "      <td>100.000000</td>\n",
       "      <td>366.000000</td>\n",
       "      <td>936.660000</td>\n",
       "      <td>1.865768e+06</td>\n",
       "      <td>2017.000000</td>\n",
       "    </tr>\n",
       "  </tbody>\n",
       "</table>\n",
       "</div>"
      ],
      "text/plain": [
       "       audienceRating  criticRating      timeMin  grossMillions          Vote  \\\n",
       "count     4583.000000   4583.000000  4583.000000    4583.000000  4.583000e+03   \n",
       "mean         6.510081     55.227144   107.127646      37.234787  8.450176e+04   \n",
       "std          0.993184     17.947463    18.810458      66.157452  1.334644e+05   \n",
       "min          1.500000      5.000000    48.000000       0.000000  2.760000e+03   \n",
       "25%          5.900000     42.000000    94.000000       0.500000  1.428100e+04   \n",
       "50%          6.600000     56.000000   104.000000      10.910000  3.541600e+04   \n",
       "75%          7.200000     69.000000   116.000000      45.060000  9.317800e+04   \n",
       "max          9.000000    100.000000   366.000000     936.660000  1.865768e+06   \n",
       "\n",
       "              Year  \n",
       "count  4583.000000  \n",
       "mean   2008.365263  \n",
       "std       5.102369  \n",
       "min    2000.000000  \n",
       "25%    2004.000000  \n",
       "50%    2008.000000  \n",
       "75%    2013.000000  \n",
       "max    2017.000000  "
      ]
     },
     "execution_count": 12,
     "metadata": {},
     "output_type": "execute_result"
    }
   ],
   "source": [
    "csvmovie.describe()"
   ]
  },
  {
   "cell_type": "code",
   "execution_count": 13,
   "metadata": {
    "scrolled": true
   },
   "outputs": [
    {
     "name": "stdout",
     "output_type": "stream",
     "text": [
      "There are 18 Genres and they are:-\n",
      "Action\n",
      "Adventure\n",
      "Animation\n",
      "Biography\n",
      "Comedy\n",
      "Crime\n",
      "Documentary\n",
      "Drama\n",
      "Family\n",
      "Fantasy\n",
      "Horror\n",
      "Music\n",
      "Mystery\n",
      "Romance\n",
      "Sci\n",
      "Thriller\n",
      "War\n",
      "Western\n"
     ]
    }
   ],
   "source": [
    "abc=csvmovie.Genre.cat.categories\n",
    "print(f'There are {len(abc)} Genres and they are:-')\n",
    "for i in abc:\n",
    "    print(i)"
   ]
  },
  {
   "cell_type": "code",
   "execution_count": null,
   "metadata": {},
   "outputs": [],
   "source": []
  },
  {
   "cell_type": "markdown",
   "metadata": {},
   "source": [
    "Dividing whole dataset into different subsets \n",
    "i.e. :- from 2000 to 2004 \n",
    "        from 2005 to 2009\n",
    "        from 2010 to 2014\n",
    "        from 2015 to 2017"
   ]
  },
  {
   "cell_type": "markdown",
   "metadata": {},
   "source": [
    "m_g1=6 genre \n",
    "m_g2=6 genre\n",
    "m_g3=6 genre"
   ]
  },
  {
   "cell_type": "markdown",
   "metadata": {},
   "source": [
    "FROM 2000 to 2004"
   ]
  },
  {
   "cell_type": "code",
   "execution_count": 45,
   "metadata": {},
   "outputs": [
    {
     "name": "stdout",
     "output_type": "stream",
     "text": [
      "889\n"
     ]
    }
   ],
   "source": [
    "m_gen11 = csvmovie.loc[(csvmovie.Year >=2000) & (csvmovie.Year <=2004) & ((csvmovie.Genre=='Action') | (csvmovie.Genre=='Adventure') | (csvmovie.Genre=='Animation') | (csvmovie.Genre=='Biography') | (csvmovie.Genre=='Comedy') | (csvmovie.Genre=='Crime'))]\n",
    "print(len(m_gen11))"
   ]
  },
  {
   "cell_type": "code",
   "execution_count": 38,
   "metadata": {},
   "outputs": [
    {
     "name": "stdout",
     "output_type": "stream",
     "text": [
      "337\n"
     ]
    }
   ],
   "source": [
    "m_gen21 = csvmovie.loc[(csvmovie.Year >=2000) & (csvmovie.Year <=2004) & ((csvmovie.Genre=='Documnetry') | (csvmovie.Genre=='Drama') | (csvmovie.Genre=='Family') | (csvmovie.Genre=='Fantsy') | (csvmovie.Genre=='Horror') | (csvmovie.Genre=='Music'))]\n",
    "print(len(m_gen21))\n"
   ]
  },
  {
   "cell_type": "code",
   "execution_count": 16,
   "metadata": {},
   "outputs": [
    {
     "name": "stdout",
     "output_type": "stream",
     "text": [
      "16\n"
     ]
    }
   ],
   "source": [
    "m_gen31 = csvmovie.loc[(csvmovie.Year >= 2000) & (csvmovie.Year <= 2004) & ((csvmovie.Genre == 'Mystery') | (csvmovie.Genre == 'Romance') | (csvmovie.Genre == 'Sci') | (csvmovie.Genre == 'Thriller') | (csvmovie.Genre == 'War') | (csvmovie.Genre == 'Western'))]\n",
    "print(len(m_gen31))"
   ]
  },
  {
   "cell_type": "markdown",
   "metadata": {},
   "source": [
    "FROM 2005 to 2009"
   ]
  },
  {
   "cell_type": "code",
   "execution_count": 17,
   "metadata": {},
   "outputs": [
    {
     "name": "stdout",
     "output_type": "stream",
     "text": [
      "930\n"
     ]
    }
   ],
   "source": [
    "m_gen12 = csvmovie.loc[(csvmovie.Year >=2005) & (csvmovie.Year <=2009) & ((csvmovie.Genre=='Action') | (csvmovie.Genre=='Adventure') | (csvmovie.Genre=='Animation') | (csvmovie.Genre=='Biography') | (csvmovie.Genre=='Comedy') | (csvmovie.Genre=='Crime'))]\n",
    "print(len(m_gen12))"
   ]
  },
  {
   "cell_type": "code",
   "execution_count": 18,
   "metadata": {},
   "outputs": [
    {
     "name": "stdout",
     "output_type": "stream",
     "text": [
      "326\n"
     ]
    }
   ],
   "source": [
    "m_gen22 = csvmovie.loc[(csvmovie.Year >=2005) & (csvmovie.Year <=2009) & ((csvmovie.Genre=='Documnetry') | (csvmovie.Genre=='Drama') | (csvmovie.Genre=='Family') | (csvmovie.Genre=='Fantsy') | (csvmovie.Genre=='Horror') | (csvmovie.Genre=='Music'))]\n",
    "print(len(m_gen22))\n"
   ]
  },
  {
   "cell_type": "code",
   "execution_count": 19,
   "metadata": {},
   "outputs": [
    {
     "name": "stdout",
     "output_type": "stream",
     "text": [
      "8\n"
     ]
    }
   ],
   "source": [
    "m_gen32 = csvmovie.loc[(csvmovie.Year >= 2005) & (csvmovie.Year <= 2009) & ((csvmovie.Genre == 'Mystery') | (csvmovie.Genre == 'Romance') | (csvmovie.Genre == 'Sci') | (csvmovie.Genre == 'Thriller') | (csvmovie.Genre == 'War') | (csvmovie.Genre == 'Western'))]\n",
    "print(len(m_gen32))"
   ]
  },
  {
   "cell_type": "markdown",
   "metadata": {},
   "source": [
    "from 2010 to 2014"
   ]
  },
  {
   "cell_type": "code",
   "execution_count": 20,
   "metadata": {},
   "outputs": [
    {
     "name": "stdout",
     "output_type": "stream",
     "text": [
      "910\n"
     ]
    }
   ],
   "source": [
    "m_gen13 = csvmovie.loc[(csvmovie.Year >=2010) & (csvmovie.Year <=2014) & ((csvmovie.Genre=='Action') | (csvmovie.Genre=='Adventure') | (csvmovie.Genre=='Animation') | (csvmovie.Genre=='Biography') | (csvmovie.Genre=='Comedy') | (csvmovie.Genre=='Crime'))]\n",
    "print(len(m_gen13))"
   ]
  },
  {
   "cell_type": "code",
   "execution_count": 21,
   "metadata": {},
   "outputs": [
    {
     "name": "stdout",
     "output_type": "stream",
     "text": [
      "339\n"
     ]
    }
   ],
   "source": [
    "m_gen23 = csvmovie.loc[(csvmovie.Year >=2010) & (csvmovie.Year <=2014) & ((csvmovie.Genre=='Documnetry') | (csvmovie.Genre=='Drama') | (csvmovie.Genre=='Family') | (csvmovie.Genre=='Fantsy') | (csvmovie.Genre=='Horror') | (csvmovie.Genre=='Music'))]\n",
    "print(len(m_gen23))\n"
   ]
  },
  {
   "cell_type": "code",
   "execution_count": 22,
   "metadata": {},
   "outputs": [
    {
     "name": "stdout",
     "output_type": "stream",
     "text": [
      "18\n"
     ]
    }
   ],
   "source": [
    "m_gen33 = csvmovie.loc[(csvmovie.Year >= 2010) & (csvmovie.Year <= 2014) & ((csvmovie.Genre == 'Mystery') | (csvmovie.Genre == 'Romance') | (csvmovie.Genre == 'Sci') | (csvmovie.Genre == 'Thriller') | (csvmovie.Genre == 'War') | (csvmovie.Genre == 'Western'))]\n",
    "print(len(m_gen33))"
   ]
  },
  {
   "cell_type": "markdown",
   "metadata": {},
   "source": [
    "from 2015 to 2017"
   ]
  },
  {
   "cell_type": "code",
   "execution_count": 23,
   "metadata": {},
   "outputs": [
    {
     "name": "stdout",
     "output_type": "stream",
     "text": [
      "165\n"
     ]
    }
   ],
   "source": [
    "m_gen14 = csvmovie.loc[(csvmovie.Year >=2015) & (csvmovie.Year <=2015) & ((csvmovie.Genre=='Action') | (csvmovie.Genre=='Adventure') | (csvmovie.Genre=='Animation') | (csvmovie.Genre=='Biography') | (csvmovie.Genre=='Comedy') | (csvmovie.Genre=='Crime'))]\n",
    "print(len(m_gen14))"
   ]
  },
  {
   "cell_type": "code",
   "execution_count": 24,
   "metadata": {},
   "outputs": [
    {
     "name": "stdout",
     "output_type": "stream",
     "text": [
      "175\n",
      "<class 'pandas.core.frame.DataFrame'>\n",
      "Int64Index: 175 entries, 3915 to 4579\n",
      "Data columns (total 8 columns):\n",
      "audienceRating    175 non-null float64\n",
      "Genre             175 non-null category\n",
      "criticRating      175 non-null int64\n",
      "timeMin           175 non-null int64\n",
      "grossMillions     175 non-null float64\n",
      "Movie             175 non-null category\n",
      "Vote              175 non-null int64\n",
      "Year              175 non-null int64\n",
      "dtypes: category(2), float64(2), int64(4)\n",
      "memory usage: 206.5 KB\n"
     ]
    }
   ],
   "source": [
    "m_gen24 = csvmovie.loc[(csvmovie.Year >=2015) & (csvmovie.Year <=2017) & ((csvmovie.Genre=='Documnetry') | (csvmovie.Genre=='Drama') | (csvmovie.Genre=='Family') | (csvmovie.Genre=='Fantsy') | (csvmovie.Genre=='Horror') | (csvmovie.Genre=='Music'))]\n",
    "print(len(m_gen24))\n",
    "m_gen24.info()"
   ]
  },
  {
   "cell_type": "code",
   "execution_count": 25,
   "metadata": {},
   "outputs": [
    {
     "name": "stdout",
     "output_type": "stream",
     "text": [
      "6\n",
      "<class 'pandas.core.frame.DataFrame'>\n",
      "Int64Index: 6 entries, 4026 to 4571\n",
      "Data columns (total 8 columns):\n",
      "audienceRating    6 non-null float64\n",
      "Genre             6 non-null category\n",
      "criticRating      6 non-null int64\n",
      "timeMin           6 non-null int64\n",
      "grossMillions     6 non-null float64\n",
      "Movie             6 non-null category\n",
      "Vote              6 non-null int64\n",
      "Year              6 non-null int64\n",
      "dtypes: category(2), float64(2), int64(4)\n",
      "memory usage: 196.7 KB\n"
     ]
    }
   ],
   "source": [
    "m_gen34 = csvmovie.loc[(csvmovie.Year >= 2015) & (csvmovie.Year <= 2017) & ((csvmovie.Genre == 'Mystery') | (csvmovie.Genre == 'Romance') | (csvmovie.Genre == 'Sci') | (csvmovie.Genre == 'Thriller') | (csvmovie.Genre == 'War') | (csvmovie.Genre == 'Western'))]\n",
    "print(len(m_gen34))\n",
    "m_gen34.info()"
   ]
  },
  {
   "cell_type": "code",
   "execution_count": 54,
   "metadata": {},
   "outputs": [
    {
     "name": "stdout",
     "output_type": "stream",
     "text": [
      "      audienceRating   Genre  criticRating  timeMin  grossMillions  \\\n",
      "0                8.5  Action            67      155         187.71   \n",
      "4                7.4  Action            64      104         157.30   \n",
      "9                6.1  Action            59      123         215.41   \n",
      "11               6.5  Action            35      118         101.65   \n",
      "12               7.9  Action            93      120         128.08   \n",
      "13               7.2  Action            63      165         113.33   \n",
      "26               5.5  Action            52       98         125.31   \n",
      "27               6.2  Action            43      109         106.81   \n",
      "34               6.4  Action            59      130         182.62   \n",
      "36               5.7  Action            24      112          73.21   \n",
      "39               5.9  Action            49      123          34.60   \n",
      "40               6.6  Action            77      110          56.94   \n",
      "56               5.1  Action            33       99         117.56   \n",
      "57               6.6  Action            62      116          77.09   \n",
      "58               2.4  Action             9      118          21.47   \n",
      "60               6.4  Action            73      130          90.46   \n",
      "62               5.9  Action            50       99          70.33   \n",
      "63               6.1  Action            52      115          55.97   \n",
      "67               5.9  Action            48      124          69.24   \n",
      "70               6.2  Action            45      135          32.60   \n",
      "71               5.7  Action            34      106          17.48   \n",
      "88               5.7  Action            37      104          23.36   \n",
      "94               5.1  Action            24      102          14.97   \n",
      "96               4.9  Action            26       99          33.02   \n",
      "97               3.7  Action            14      107          15.22   \n",
      "99               6.7  Action            49      119           6.06   \n",
      "100              5.6  Action            24      106          35.01   \n",
      "101              5.7  Action            30      117          30.21   \n",
      "110              7.9  Action            58      110           0.00   \n",
      "120              4.6  Action            21       87          12.80   \n",
      "...              ...     ...           ...      ...            ...   \n",
      "4425             5.2  Action            28      155         130.12   \n",
      "4426             5.6  Action            37      116          58.06   \n",
      "4428             6.0  Action            44      124          85.07   \n",
      "4430             5.7  Action            34       95          50.70   \n",
      "4433             5.2  Action            42      107          44.90   \n",
      "4438             7.2  Action            65      115          51.34   \n",
      "4443             7.4  Action            76      120           0.00   \n",
      "4448             6.9  Action            47      123           0.00   \n",
      "4455             6.2  Action            45      112          36.25   \n",
      "4456             6.7  Action            28      117           0.00   \n",
      "4461             5.5  Action            21      109          33.42   \n",
      "4464             6.0  Action            28      100          18.59   \n",
      "4467             7.1  Action            55      113          34.39   \n",
      "4471             4.3  Action            45       90          45.83   \n",
      "4473             5.9  Action            44       95          30.72   \n",
      "4476             5.6  Action            34       95          20.76   \n",
      "4482             6.7  Action            48      115           0.00   \n",
      "4488             6.4  Action            48      112          30.35   \n",
      "4496             6.2  Action            46       98           0.00   \n",
      "4499             6.0  Action            50       90           0.00   \n",
      "4523             5.2  Action            28       94           0.00   \n",
      "4525             7.2  Action            58      119          29.11   \n",
      "4534             6.2  Action            36       94           0.00   \n",
      "4553             5.3  Action            50      107           0.36   \n",
      "4555             5.0  Action            31       91           0.00   \n",
      "4562             6.9  Action            72      140           0.15   \n",
      "4572             4.9  Action            39       97           0.00   \n",
      "4574             5.1  Action            44       94           0.00   \n",
      "4578             5.5  Action            35       91           0.00   \n",
      "4580             6.4  Action            62       86           0.00   \n",
      "\n",
      "                                            Movie     Vote  Year  \n",
      "0                                       Gladiator  1096457  2000  \n",
      "4                                           X-Men   498388  2000  \n",
      "9                     M-I:2 Mission: Impossible 2   263188  2000  \n",
      "11                             60 secondes chrono   232856  2000  \n",
      "12                                Tigre et dragon   229667  2000  \n",
      "13           The patriot: Le chemin de la liberté   223789  2000  \n",
      "26                 Charlie et ses drôles de dames   154200  2000  \n",
      "27                                 Miss Détective   153076  2000  \n",
      "34                              En pleine tempête   140401  2000  \n",
      "36                Hollow man - L'homme sans ombre   108636  2000  \n",
      "39                          À l'aube du 6ème jour   105553  2000  \n",
      "40                                   Shanghai Kid   104646  2000  \n",
      "56                                      Big Mamma    71806  2000  \n",
      "57                                          U-571    69179  2000  \n",
      "58    Battlefield Earth - Terre champ de bataille    68632  2000  \n",
      "60                                  Space Cowboys    64294  2000  \n",
      "62                                          Shaft    62047  2000  \n",
      "63                              Roméo doit mourir    60256  2000  \n",
      "67                                 Vertical Limit    52577  2000  \n",
      "70                                      L'échange    51252  2000  \n",
      "71                                  Planète rouge    50290  2000  \n",
      "88                                    Piège fatal    33412  2000  \n",
      "94                                     Get Carter    29084  2000  \n",
      "96                                   Dracula 2001    28919  2000  \n",
      "97                              Donjons & dragons    28848  2000  \n",
      "99                                 Way of the Gun    28632  2000  \n",
      "100                   The skulls: société secrète    28323  2000  \n",
      "101                            L'art de la guerre    26355  2000  \n",
      "110                     JSA - Joint Security Area    21140  2000  \n",
      "120                           Highlander: Endgame    17367  2000  \n",
      "...                                           ...      ...   ...  \n",
      "4425                Transformers: The Last Knight    83862  2017  \n",
      "4426                    Baywatch: Alerte à Malibu    82925  2017  \n",
      "4428                                Power Rangers    72449  2017  \n",
      "4430                               La Tour sombre    70366  2017  \n",
      "4433                             xXx: Reactivated    64111  2017  \n",
      "4438                 Barry Seal: American Traffic    57199  2017  \n",
      "4443                                         Okja    49556  2017  \n",
      "4448                                Seven Sisters    39257  2017  \n",
      "4455                            American Assassin    29261  2017  \n",
      "4456                                       Bright    27409  2017  \n",
      "4461                                     Geostorm    25949  2017  \n",
      "4464                                        CHIPS    24962  2017  \n",
      "4467                                The Foreigner    22548  2017  \n",
      "4471                                     Larguées    20540  2017  \n",
      "4473                                       Kidnap    19827  2017  \n",
      "4476                                    Sleepless    19150  2017  \n",
      "4482                                       Jungle    16624  2017  \n",
      "4488                       La montagne entre nous    15377  2017  \n",
      "4496                                   Conspiracy    12529  2017  \n",
      "4499                                         iBoy    12269  2017  \n",
      "4523                                    L.A. Rush     8934  2017  \n",
      "4525            Jumanji: Bienvenue dans la jungle     8852  2017  \n",
      "4534                                       6 Days     7339  2017  \n",
      "4553                               Gong fu yu jia     5203  2017  \n",
      "4555                                  Kill Switch     4991  2017  \n",
      "4562                               Mugen no jûnin     4328  2017  \n",
      "4572                                   First Kill     4013  2017  \n",
      "4574                                     Bushwick     3952  2017  \n",
      "4578                             The Professional     3793  2017  \n",
      "4580                                       Mayhem     3718  2017  \n",
      "\n",
      "[914 rows x 8 columns]\n"
     ]
    }
   ],
   "source": [
    "m_a=csvmovie.loc[csvmovie.Genre=='Action']\n",
    "print(m_a)"
   ]
  },
  {
   "cell_type": "code",
   "execution_count": 26,
   "metadata": {},
   "outputs": [],
   "source": [
    "import matplotlib.pyplot as plt\n",
    "import seaborn as sns\n",
    "%matplotlib inline"
   ]
  },
  {
   "cell_type": "code",
   "execution_count": 27,
   "metadata": {},
   "outputs": [
    {
     "data": {
      "text/plain": [
       "Index(['Action', 'Adventure', 'Animation', 'Biography', 'Comedy', 'Crime'], dtype='object')"
      ]
     },
     "execution_count": 27,
     "metadata": {},
     "output_type": "execute_result"
    }
   ],
   "source": [
    "m_gen11.Genre.cat.categories[0:6]"
   ]
  },
  {
   "cell_type": "code",
   "execution_count": 58,
   "metadata": {},
   "outputs": [
    {
     "data": {
      "image/png": "[encoded data removed]",
      "text/plain": [
       "<Figure size 432x432 with 3 Axes>"
      ]
     },
     "metadata": {
      "needs_background": "light"
     },
     "output_type": "display_data"
    }
   ],
   "source": [
    "j11 = sns.jointplot(data=m_a, x='criticRating', y='Year')"
   ]
  },
  {
   "cell_type": "code",
   "execution_count": 52,
   "metadata": {},
   "outputs": [
    {
     "ename": "TypeError",
     "evalue": "can't multiply sequence by non-int of type 'float'",
     "output_type": "error",
     "traceback": [
      "\u001b[0;31m---------------------------------------------------------------------------\u001b[0m",
      "\u001b[0;31mTypeError\u001b[0m                                 Traceback (most recent call last)",
      "\u001b[0;32m<ipython-input-52-5641ae95cda7>\u001b[0m in \u001b[0;36m<module>\u001b[0;34m\u001b[0m\n\u001b[0;32m----> 1\u001b[0;31m \u001b[0mj21\u001b[0m \u001b[0;34m=\u001b[0m \u001b[0msns\u001b[0m\u001b[0;34m.\u001b[0m\u001b[0mjointplot\u001b[0m\u001b[0;34m(\u001b[0m\u001b[0mdata\u001b[0m\u001b[0;34m=\u001b[0m\u001b[0mm_a\u001b[0m\u001b[0;34m,\u001b[0m \u001b[0mx\u001b[0m\u001b[0;34m=\u001b[0m\u001b[0;34m'Genre'\u001b[0m\u001b[0;34m,\u001b[0m \u001b[0my\u001b[0m\u001b[0;34m=\u001b[0m\u001b[0;34m'Year'\u001b[0m\u001b[0;34m,\u001b[0m\u001b[0mcolor\u001b[0m\u001b[0;34m=\u001b[0m\u001b[0;34m'black'\u001b[0m\u001b[0;34m)\u001b[0m\u001b[0;34m\u001b[0m\u001b[0;34m\u001b[0m\u001b[0m\n\u001b[0m",
      "\u001b[0;32m~/anaconda3/lib/python3.7/site-packages/seaborn/axisgrid.py\u001b[0m in \u001b[0;36mjointplot\u001b[0;34m(x, y, data, kind, stat_func, color, height, ratio, space, dropna, xlim, ylim, joint_kws, marginal_kws, annot_kws, **kwargs)\u001b[0m\n\u001b[1;32m   2292\u001b[0m         \u001b[0mmarginal_kws\u001b[0m\u001b[0;34m.\u001b[0m\u001b[0msetdefault\u001b[0m\u001b[0;34m(\u001b[0m\u001b[0;34m\"kde\"\u001b[0m\u001b[0;34m,\u001b[0m \u001b[0;32mFalse\u001b[0m\u001b[0;34m)\u001b[0m\u001b[0;34m\u001b[0m\u001b[0;34m\u001b[0m\u001b[0m\n\u001b[1;32m   2293\u001b[0m         \u001b[0mmarginal_kws\u001b[0m\u001b[0;34m.\u001b[0m\u001b[0msetdefault\u001b[0m\u001b[0;34m(\u001b[0m\u001b[0;34m\"color\"\u001b[0m\u001b[0;34m,\u001b[0m \u001b[0mcolor\u001b[0m\u001b[0;34m)\u001b[0m\u001b[0;34m\u001b[0m\u001b[0;34m\u001b[0m\u001b[0m\n\u001b[0;32m-> 2294\u001b[0;31m         \u001b[0mgrid\u001b[0m\u001b[0;34m.\u001b[0m\u001b[0mplot_marginals\u001b[0m\u001b[0;34m(\u001b[0m\u001b[0mdistplot\u001b[0m\u001b[0;34m,\u001b[0m \u001b[0;34m**\u001b[0m\u001b[0mmarginal_kws\u001b[0m\u001b[0;34m)\u001b[0m\u001b[0;34m\u001b[0m\u001b[0;34m\u001b[0m\u001b[0m\n\u001b[0m\u001b[1;32m   2295\u001b[0m \u001b[0;34m\u001b[0m\u001b[0m\n\u001b[1;32m   2296\u001b[0m     \u001b[0;32melif\u001b[0m \u001b[0mkind\u001b[0m\u001b[0;34m.\u001b[0m\u001b[0mstartswith\u001b[0m\u001b[0;34m(\u001b[0m\u001b[0;34m\"hex\"\u001b[0m\u001b[0;34m)\u001b[0m\u001b[0;34m:\u001b[0m\u001b[0;34m\u001b[0m\u001b[0;34m\u001b[0m\u001b[0m\n",
      "\u001b[0;32m~/anaconda3/lib/python3.7/site-packages/seaborn/axisgrid.py\u001b[0m in \u001b[0;36mplot_marginals\u001b[0;34m(self, func, **kwargs)\u001b[0m\n\u001b[1;32m   1807\u001b[0m         \u001b[0mkwargs\u001b[0m\u001b[0;34m[\u001b[0m\u001b[0;34m\"vertical\"\u001b[0m\u001b[0;34m]\u001b[0m \u001b[0;34m=\u001b[0m \u001b[0;32mFalse\u001b[0m\u001b[0;34m\u001b[0m\u001b[0;34m\u001b[0m\u001b[0m\n\u001b[1;32m   1808\u001b[0m         \u001b[0mplt\u001b[0m\u001b[0;34m.\u001b[0m\u001b[0msca\u001b[0m\u001b[0;34m(\u001b[0m\u001b[0mself\u001b[0m\u001b[0;34m.\u001b[0m\u001b[0max_marg_x\u001b[0m\u001b[0;34m)\u001b[0m\u001b[0;34m\u001b[0m\u001b[0;34m\u001b[0m\u001b[0m\n\u001b[0;32m-> 1809\u001b[0;31m         \u001b[0mfunc\u001b[0m\u001b[0;34m(\u001b[0m\u001b[0mself\u001b[0m\u001b[0;34m.\u001b[0m\u001b[0mx\u001b[0m\u001b[0;34m,\u001b[0m \u001b[0;34m**\u001b[0m\u001b[0mkwargs\u001b[0m\u001b[0;34m)\u001b[0m\u001b[0;34m\u001b[0m\u001b[0;34m\u001b[0m\u001b[0m\n\u001b[0m\u001b[1;32m   1810\u001b[0m \u001b[0;34m\u001b[0m\u001b[0m\n\u001b[1;32m   1811\u001b[0m         \u001b[0mkwargs\u001b[0m\u001b[0;34m[\u001b[0m\u001b[0;34m\"vertical\"\u001b[0m\u001b[0;34m]\u001b[0m \u001b[0;34m=\u001b[0m \u001b[0;32mTrue\u001b[0m\u001b[0;34m\u001b[0m\u001b[0;34m\u001b[0m\u001b[0m\n",
      "\u001b[0;32m~/anaconda3/lib/python3.7/site-packages/seaborn/distributions.py\u001b[0m in \u001b[0;36mdistplot\u001b[0;34m(a, bins, hist, kde, rug, fit, hist_kws, kde_kws, rug_kws, fit_kws, color, vertical, norm_hist, axlabel, label, ax)\u001b[0m\n\u001b[1;32m    213\u001b[0m     \u001b[0;32mif\u001b[0m \u001b[0mhist\u001b[0m\u001b[0;34m:\u001b[0m\u001b[0;34m\u001b[0m\u001b[0;34m\u001b[0m\u001b[0m\n\u001b[1;32m    214\u001b[0m         \u001b[0;32mif\u001b[0m \u001b[0mbins\u001b[0m \u001b[0;32mis\u001b[0m \u001b[0;32mNone\u001b[0m\u001b[0;34m:\u001b[0m\u001b[0;34m\u001b[0m\u001b[0;34m\u001b[0m\u001b[0m\n\u001b[0;32m--> 215\u001b[0;31m             \u001b[0mbins\u001b[0m \u001b[0;34m=\u001b[0m \u001b[0mmin\u001b[0m\u001b[0;34m(\u001b[0m\u001b[0m_freedman_diaconis_bins\u001b[0m\u001b[0;34m(\u001b[0m\u001b[0ma\u001b[0m\u001b[0;34m)\u001b[0m\u001b[0;34m,\u001b[0m \u001b[0;36m50\u001b[0m\u001b[0;34m)\u001b[0m\u001b[0;34m\u001b[0m\u001b[0;34m\u001b[0m\u001b[0m\n\u001b[0m\u001b[1;32m    216\u001b[0m         \u001b[0mhist_kws\u001b[0m\u001b[0;34m.\u001b[0m\u001b[0msetdefault\u001b[0m\u001b[0;34m(\u001b[0m\u001b[0;34m\"alpha\"\u001b[0m\u001b[0;34m,\u001b[0m \u001b[0;36m0.4\u001b[0m\u001b[0;34m)\u001b[0m\u001b[0;34m\u001b[0m\u001b[0;34m\u001b[0m\u001b[0m\n\u001b[1;32m    217\u001b[0m         \u001b[0;32mif\u001b[0m \u001b[0mLooseVersion\u001b[0m\u001b[0;34m(\u001b[0m\u001b[0mmpl\u001b[0m\u001b[0;34m.\u001b[0m\u001b[0m__version__\u001b[0m\u001b[0;34m)\u001b[0m \u001b[0;34m<\u001b[0m \u001b[0mLooseVersion\u001b[0m\u001b[0;34m(\u001b[0m\u001b[0;34m\"2.2\"\u001b[0m\u001b[0;34m)\u001b[0m\u001b[0;34m:\u001b[0m\u001b[0;34m\u001b[0m\u001b[0;34m\u001b[0m\u001b[0m\n",
      "\u001b[0;32m~/anaconda3/lib/python3.7/site-packages/seaborn/distributions.py\u001b[0m in \u001b[0;36m_freedman_diaconis_bins\u001b[0;34m(a)\u001b[0m\n\u001b[1;32m     32\u001b[0m     \u001b[0;32mif\u001b[0m \u001b[0mlen\u001b[0m\u001b[0;34m(\u001b[0m\u001b[0ma\u001b[0m\u001b[0;34m)\u001b[0m \u001b[0;34m<\u001b[0m \u001b[0;36m2\u001b[0m\u001b[0;34m:\u001b[0m\u001b[0;34m\u001b[0m\u001b[0;34m\u001b[0m\u001b[0m\n\u001b[1;32m     33\u001b[0m         \u001b[0;32mreturn\u001b[0m \u001b[0;36m1\u001b[0m\u001b[0;34m\u001b[0m\u001b[0;34m\u001b[0m\u001b[0m\n\u001b[0;32m---> 34\u001b[0;31m     \u001b[0mh\u001b[0m \u001b[0;34m=\u001b[0m \u001b[0;36m2\u001b[0m \u001b[0;34m*\u001b[0m \u001b[0miqr\u001b[0m\u001b[0;34m(\u001b[0m\u001b[0ma\u001b[0m\u001b[0;34m)\u001b[0m \u001b[0;34m/\u001b[0m \u001b[0;34m(\u001b[0m\u001b[0mlen\u001b[0m\u001b[0;34m(\u001b[0m\u001b[0ma\u001b[0m\u001b[0;34m)\u001b[0m \u001b[0;34m**\u001b[0m \u001b[0;34m(\u001b[0m\u001b[0;36m1\u001b[0m \u001b[0;34m/\u001b[0m \u001b[0;36m3\u001b[0m\u001b[0;34m)\u001b[0m\u001b[0;34m)\u001b[0m\u001b[0;34m\u001b[0m\u001b[0;34m\u001b[0m\u001b[0m\n\u001b[0m\u001b[1;32m     35\u001b[0m     \u001b[0;31m# fall back to sqrt(a) bins if iqr is 0\u001b[0m\u001b[0;34m\u001b[0m\u001b[0;34m\u001b[0m\u001b[0;34m\u001b[0m\u001b[0m\n\u001b[1;32m     36\u001b[0m     \u001b[0;32mif\u001b[0m \u001b[0mh\u001b[0m \u001b[0;34m==\u001b[0m \u001b[0;36m0\u001b[0m\u001b[0;34m:\u001b[0m\u001b[0;34m\u001b[0m\u001b[0;34m\u001b[0m\u001b[0m\n",
      "\u001b[0;32m~/anaconda3/lib/python3.7/site-packages/seaborn/utils.py\u001b[0m in \u001b[0;36miqr\u001b[0;34m(a)\u001b[0m\n\u001b[1;32m    364\u001b[0m     \u001b[0;34m\"\"\"Calculate the IQR for an array of numbers.\"\"\"\u001b[0m\u001b[0;34m\u001b[0m\u001b[0;34m\u001b[0m\u001b[0m\n\u001b[1;32m    365\u001b[0m     \u001b[0ma\u001b[0m \u001b[0;34m=\u001b[0m \u001b[0mnp\u001b[0m\u001b[0;34m.\u001b[0m\u001b[0masarray\u001b[0m\u001b[0;34m(\u001b[0m\u001b[0ma\u001b[0m\u001b[0;34m)\u001b[0m\u001b[0;34m\u001b[0m\u001b[0;34m\u001b[0m\u001b[0m\n\u001b[0;32m--> 366\u001b[0;31m     \u001b[0mq1\u001b[0m \u001b[0;34m=\u001b[0m \u001b[0mstats\u001b[0m\u001b[0;34m.\u001b[0m\u001b[0mscoreatpercentile\u001b[0m\u001b[0;34m(\u001b[0m\u001b[0ma\u001b[0m\u001b[0;34m,\u001b[0m \u001b[0;36m25\u001b[0m\u001b[0;34m)\u001b[0m\u001b[0;34m\u001b[0m\u001b[0;34m\u001b[0m\u001b[0m\n\u001b[0m\u001b[1;32m    367\u001b[0m     \u001b[0mq3\u001b[0m \u001b[0;34m=\u001b[0m \u001b[0mstats\u001b[0m\u001b[0;34m.\u001b[0m\u001b[0mscoreatpercentile\u001b[0m\u001b[0;34m(\u001b[0m\u001b[0ma\u001b[0m\u001b[0;34m,\u001b[0m \u001b[0;36m75\u001b[0m\u001b[0;34m)\u001b[0m\u001b[0;34m\u001b[0m\u001b[0;34m\u001b[0m\u001b[0m\n\u001b[1;32m    368\u001b[0m     \u001b[0;32mreturn\u001b[0m \u001b[0mq3\u001b[0m \u001b[0;34m-\u001b[0m \u001b[0mq1\u001b[0m\u001b[0;34m\u001b[0m\u001b[0;34m\u001b[0m\u001b[0m\n",
      "\u001b[0;32m~/anaconda3/lib/python3.7/site-packages/scipy/stats/stats.py\u001b[0m in \u001b[0;36mscoreatpercentile\u001b[0;34m(a, per, limit, interpolation_method, axis)\u001b[0m\n\u001b[1;32m   1729\u001b[0m         \u001b[0maxis\u001b[0m \u001b[0;34m=\u001b[0m \u001b[0;36m0\u001b[0m\u001b[0;34m\u001b[0m\u001b[0;34m\u001b[0m\u001b[0m\n\u001b[1;32m   1730\u001b[0m \u001b[0;34m\u001b[0m\u001b[0m\n\u001b[0;32m-> 1731\u001b[0;31m     \u001b[0;32mreturn\u001b[0m \u001b[0m_compute_qth_percentile\u001b[0m\u001b[0;34m(\u001b[0m\u001b[0msorted_\u001b[0m\u001b[0;34m,\u001b[0m \u001b[0mper\u001b[0m\u001b[0;34m,\u001b[0m \u001b[0minterpolation_method\u001b[0m\u001b[0;34m,\u001b[0m \u001b[0maxis\u001b[0m\u001b[0;34m)\u001b[0m\u001b[0;34m\u001b[0m\u001b[0;34m\u001b[0m\u001b[0m\n\u001b[0m\u001b[1;32m   1732\u001b[0m \u001b[0;34m\u001b[0m\u001b[0m\n\u001b[1;32m   1733\u001b[0m \u001b[0;34m\u001b[0m\u001b[0m\n",
      "\u001b[0;32m~/anaconda3/lib/python3.7/site-packages/scipy/stats/stats.py\u001b[0m in \u001b[0;36m_compute_qth_percentile\u001b[0;34m(sorted_, per, interpolation_method, axis)\u001b[0m\n\u001b[1;32m   1773\u001b[0m \u001b[0;34m\u001b[0m\u001b[0m\n\u001b[1;32m   1774\u001b[0m     \u001b[0;31m# Use np.add.reduce (== np.sum but a little faster) to coerce data type\u001b[0m\u001b[0;34m\u001b[0m\u001b[0;34m\u001b[0m\u001b[0;34m\u001b[0m\u001b[0m\n\u001b[0;32m-> 1775\u001b[0;31m     \u001b[0;32mreturn\u001b[0m \u001b[0mnp\u001b[0m\u001b[0;34m.\u001b[0m\u001b[0madd\u001b[0m\u001b[0;34m.\u001b[0m\u001b[0mreduce\u001b[0m\u001b[0;34m(\u001b[0m\u001b[0msorted_\u001b[0m\u001b[0;34m[\u001b[0m\u001b[0mtuple\u001b[0m\u001b[0;34m(\u001b[0m\u001b[0mindexer\u001b[0m\u001b[0;34m)\u001b[0m\u001b[0;34m]\u001b[0m \u001b[0;34m*\u001b[0m \u001b[0mweights\u001b[0m\u001b[0;34m,\u001b[0m \u001b[0maxis\u001b[0m\u001b[0;34m=\u001b[0m\u001b[0maxis\u001b[0m\u001b[0;34m)\u001b[0m \u001b[0;34m/\u001b[0m \u001b[0msumval\u001b[0m\u001b[0;34m\u001b[0m\u001b[0;34m\u001b[0m\u001b[0m\n\u001b[0m\u001b[1;32m   1776\u001b[0m \u001b[0;34m\u001b[0m\u001b[0m\n\u001b[1;32m   1777\u001b[0m \u001b[0;34m\u001b[0m\u001b[0m\n",
      "\u001b[0;31mTypeError\u001b[0m: can't multiply sequence by non-int of type 'float'"
     ]
    },
    {
     "data": {
      "image/png": "[encoded data removed]",
      "text/plain": [
       "<Figure size 432x432 with 3 Axes>"
      ]
     },
     "metadata": {
      "needs_background": "light"
     },
     "output_type": "display_data"
    }
   ],
   "source": [
    "j21 = sns.jointplot(data=m_a, x='Gen', y='audienceRating',color='black')"
   ]
  },
  {
   "cell_type": "code",
   "execution_count": 36,
   "metadata": {},
   "outputs": [
    {
     "data": {
      "image/png": "[encoded data removed]",
      "text/plain": [
       "<Figure size 432x432 with 3 Axes>"
      ]
     },
     "metadata": {
      "needs_background": "light"
     },
     "output_type": "display_data"
    }
   ],
   "source": [
    "j31 = sns.jointplot(data=m_gen13, x='criticRating', y='Year',kind='hex',color='red')"
   ]
  }
 ],
 "metadata": {
  "kernelspec": {
   "display_name": "Python 3",
   "language": "python",
   "name": "python3"
  },
  "language_info": {
   "codemirror_mode": {
    "name": "ipython",
    "version": 3
   },
   "file_extension": ".py",
   "mimetype": "text/x-python",
   "name": "python",
   "nbconvert_exporter": "python",
   "pygments_lexer": "ipython3",
   "version": "3.7.3"
  }
 },
 "nbformat": 4,
 "nbformat_minor": 2
}
